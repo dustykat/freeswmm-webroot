{
 "cells": [
  {
   "cell_type": "code",
   "execution_count": null,
   "id": "e67ec37a-90c6-456a-8d79-4ea9b74f990d",
   "metadata": {},
   "outputs": [],
   "source": [
    "sudo pip install epanettools"
   ]
  }
 ],
 "metadata": {
  "kernelspec": {
   "display_name": "Python 3 (ipykernel)",
   "language": "python",
   "name": "python3"
  },
  "language_info": {
   "codemirror_mode": {
    "name": "ipython",
    "version": 3
   },
   "file_extension": ".py",
   "mimetype": "text/x-python",
   "name": "python",
   "nbconvert_exporter": "python",
   "pygments_lexer": "ipython3",
   "version": "3.8.10"
  }
 },
 "nbformat": 4,
 "nbformat_minor": 5
}
