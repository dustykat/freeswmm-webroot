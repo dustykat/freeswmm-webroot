{
 "cells": [
  {
   "cell_type": "markdown",
   "id": "d8a0426d-86b1-4b0d-8648-6608b21792db",
   "metadata": {},
   "source": [
    "NoVNC services set-up procedure\n",
    "\n",
    "- login to AWS console\n",
    "- login to FreeSWMM instance (you may need to stop/start to regain control, do it from the hypervisor)\n",
    "- as unbuntu kill vncserver instances (it should be :1)\n",
    "- su to antares kill vncserver instance :2\n",
    "- exit back to ubuntu\n",
    "- sudo snap set novnc services.n6081.listen=6081 services.n6081.vnc=localhost:5901\n",
    "- sudo snap set novnc services.n6082.listen=6082 services.n6082.vnc=localhost:5902\n",
    "- as ubuntu start :1\n",
    "- su to antares, start desktop :2\n",
    "- try the connection, it takes some fuss to get it working, but eventually does; remember to clear browser cache."
   ]
  },
  {
   "cell_type": "code",
   "execution_count": null,
   "id": "4577aac2-0bf0-4d31-84aa-c197195f27ca",
   "metadata": {},
   "outputs": [],
   "source": []
  }
 ],
 "metadata": {
  "kernelspec": {
   "display_name": "Python 38",
   "language": "python",
   "name": "python38"
  },
  "language_info": {
   "codemirror_mode": {
    "name": "ipython",
    "version": 3
   },
   "file_extension": ".py",
   "mimetype": "text/x-python",
   "name": "python",
   "nbconvert_exporter": "python",
   "pygments_lexer": "ipython3",
   "version": "3.8.3"
  }
 },
 "nbformat": 4,
 "nbformat_minor": 5
}
