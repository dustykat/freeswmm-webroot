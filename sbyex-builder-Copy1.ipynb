{
 "cells": [
  {
   "cell_type": "code",
   "execution_count": 3,
   "metadata": {},
   "outputs": [
    {
     "name": "stdout",
     "output_type": "stream",
     "text": [
      "/home/sensei/freeswmm-webroot\n"
     ]
    }
   ],
   "source": [
    "import sys\n",
    "! pwd"
   ]
  },
  {
   "cell_type": "code",
   "execution_count": 2,
   "metadata": {},
   "outputs": [
    {
     "name": "stdout",
     "output_type": "stream",
     "text": [
      "Traceback (most recent call last):\n",
      "  File \"/opt/jupyterhub/bin/jupyter-book\", line 8, in <module>\n",
      "    sys.exit(main())\n",
      "  File \"/opt/jupyterhub/lib/python3.8/site-packages/click/core.py\", line 1130, in __call__\n",
      "    return self.main(*args, **kwargs)\n",
      "  File \"/opt/jupyterhub/lib/python3.8/site-packages/click/core.py\", line 1055, in main\n",
      "    rv = self.invoke(ctx)\n",
      "  File \"/opt/jupyterhub/lib/python3.8/site-packages/click/core.py\", line 1657, in invoke\n",
      "    return _process_result(sub_ctx.command.invoke(sub_ctx))\n",
      "  File \"/opt/jupyterhub/lib/python3.8/site-packages/click/core.py\", line 1404, in invoke\n",
      "    return ctx.invoke(self.callback, **ctx.params)\n",
      "  File \"/opt/jupyterhub/lib/python3.8/site-packages/click/core.py\", line 760, in invoke\n",
      "    return __callback(*args, **kwargs)\n",
      "  File \"/opt/jupyterhub/lib/python3.8/site-packages/jupyter_book/cli/main.py\", line 340, in create\n",
      "    sh.copytree(template_path, book)\n",
      "  File \"/usr/lib/python3.8/shutil.py\", line 557, in copytree\n",
      "    return _copytree(entries=entries, src=src, dst=dst, symlinks=symlinks,\n",
      "  File \"/usr/lib/python3.8/shutil.py\", line 458, in _copytree\n",
      "    os.makedirs(dst, exist_ok=dirs_exist_ok)\n",
      "  File \"/usr/lib/python3.8/os.py\", line 223, in makedirs\n",
      "    mkdir(name, mode)\n",
      "FileExistsError: [Errno 17] File exists: 'swmmbyexample'\n"
     ]
    }
   ],
   "source": [
    "! jupyter-book create swmmbyexample/"
   ]
  },
  {
   "cell_type": "code",
   "execution_count": 4,
   "metadata": {},
   "outputs": [
    {
     "name": "stdout",
     "output_type": "stream",
     "text": [
      "\u001b[32m\u001b[1mRunning Jupyter-Book v0.13.1\u001b[0m\n",
      "\u001b[34m\u001b[1mSource Folder: \u001b[0m/home/sensei/freeswmm-webroot/swmmbyexample\n",
      "\u001b[34m\u001b[1mConfig Path: \u001b[0m/home/sensei/freeswmm-webroot/swmmbyexample/_config.yml\n",
      "\u001b[34m\u001b[1mOutput Path: \u001b[0m/home/sensei/freeswmm-webroot/swmmbyexample/_build/html\n",
      "\u001b[01mRunning Sphinx v4.5.0\u001b[39;49;00m\n",
      "[etoc] Changing master_doc to 'intro'\n",
      "\u001b[01mloading pickled environment... \u001b[39;49;00mchecking bibtex cache... up to date\n",
      "done\n",
      "\u001b[01mmyst v0.15.2:\u001b[39;49;00m MdParserConfig(renderer='sphinx', commonmark_only=False, enable_extensions=['colon_fence', 'dollarmath', 'linkify', 'substitution', 'tasklist'], dmath_allow_labels=True, dmath_allow_space=True, dmath_allow_digits=True, dmath_double_inline=False, update_mathjax=True, mathjax_classes='tex2jax_process|mathjax_process|math|output_area', disable_syntax=[], url_schemes=['mailto', 'http', 'https'], heading_anchors=None, heading_slug_func=None, html_meta=[], footnote_transition=True, substitutions=[], sub_delimiters=['{', '}'], words_per_minute=200)\n",
      "\u001b[01mbuilding [mo]: \u001b[39;49;00mtargets for 0 po files that are out of date\n",
      "\u001b[01mbuilding [html]: \u001b[39;49;00mtargets for 2 source files that are out of date\n",
      "\u001b[01mupdating environment: \u001b[39;49;00m0 added, 2 changed, 0 removed\n",
      "Executing: examples/chapter1/accessfreeswmm in: /home/sensei/freeswmm-webroot/swmmbyexample/examples/chapter1   \n",
      "Executing: examples/chapter1/introduction in: /home/sensei/freeswmm-webroot/swmmbyexample/examples/chapter1     \n",
      "\n",
      "\u001b[01mlooking for now-outdated files... \u001b[39;49;00mnone found\n",
      "\u001b[01mpickling environment... \u001b[39;49;00mdone\n",
      "\u001b[01mchecking consistency... \u001b[39;49;00mdone\n",
      "\u001b[01mpreparing documents... \u001b[39;49;00mdone\n",
      "\u001b[01mwriting output... \u001b[39;49;00m[100%] \u001b[32mintro\u001b[39;49;00m                                                  \n",
      "\u001b[01mgenerating indices... \u001b[39;49;00mgenindex done\n",
      "\u001b[01mwriting additional pages... \u001b[39;49;00msearch done\n",
      "\u001b[01mcopying images... \u001b[39;49;00m[100%] \u001b[33mexamples/chapter1/disconnect.png\u001b[39;49;00m                       \n",
      "\u001b[01mcopying static files... \u001b[39;49;00mdone\n",
      "\u001b[01mcopying extra files... \u001b[39;49;00mdone\n",
      "\u001b[01mdumping search index in English (code: en)... \u001b[39;49;00mdone\n",
      "\u001b[01mdumping object inventory... \u001b[39;49;00mdone\n",
      "\u001b[01mbuild succeeded.\u001b[39;49;00m\n",
      "\n",
      "The HTML pages are in swmmbyexample/_build/html.\n",
      "\n",
      "\u001b[92m===============================================================================\u001b[0m\n",
      "\n",
      "Finished generating HTML for book.\n",
      "Your book's HTML pages are here:\n",
      "    swmmbyexample/_build/html/\n",
      "You can look at your book by opening this file in a browser:\n",
      "    swmmbyexample/_build/html/index.html\n",
      "Or paste this line directly into your browser bar:\n",
      "    file:///home/sensei/freeswmm-webroot/swmmbyexample/_build/html/index.html            \n",
      "\n",
      "\u001b[92m===============================================================================\u001b[0m\n",
      "\n"
     ]
    }
   ],
   "source": [
    "! jupyter-book build swmmbyexample"
   ]
  },
  {
   "cell_type": "markdown",
   "metadata": {},
   "source": [
    "# "
   ]
  }
 ],
 "metadata": {
  "kernelspec": {
   "display_name": "Python 38",
   "language": "python",
   "name": "python38"
  },
  "language_info": {
   "codemirror_mode": {
    "name": "ipython",
    "version": 3
   },
   "file_extension": ".py",
   "mimetype": "text/x-python",
   "name": "python",
   "nbconvert_exporter": "python",
   "pygments_lexer": "ipython3",
   "version": "3.8.3"
  }
 },
 "nbformat": 4,
 "nbformat_minor": 4
}
