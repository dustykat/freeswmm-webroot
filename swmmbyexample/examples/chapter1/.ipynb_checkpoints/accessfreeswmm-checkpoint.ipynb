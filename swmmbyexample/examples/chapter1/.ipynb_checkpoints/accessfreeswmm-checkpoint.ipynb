{
 "cells": [
  {
   "cell_type": "markdown",
   "id": "09743040-4219-4347-be23-c17b8193cb95",
   "metadata": {
    "tags": []
   },
   "source": [
    "# Accessing FreeSWMM\n",
    "\n",
    "To access the FreeSWMM site use the link: [FreeSWMM (via NoVNC)](http://freeswmm.ddns.net:6082/vnc.html?host=freeswmm.ddns.net&port=6082) you will encounter the NoVNC interface pictured below:\n",
    "\n",
    ":::{note}\n",
    "Additional links for maintenance and troubleshooting:\n",
    "> [Root (should return a grey screen of failure)](http://18.210.253.169:6081/vnc.html?host=18.210.253.169&port=6081)<br>\n",
    "> [User (same as below - might load a bit faster)](http://18.210.253.169:6082/vnc.html?host=18.210.253.169&port=6082)<br>\n",
    "> VNC Services (Run as root or sudo)<br>\n",
    "> sudo snap set novnc services.n6081.listen=6081 services.n6081.vnc=localhost:5901<br>\n",
    "> sudo snap set novnc services.n6082.listen=6082 services.n6082.vnc=localhost:5902<br>\n",
    ":::\n",
    "\n",
    "![](novnc.png)\n",
    "\n",
    "When you when you click on \"Connect\" you will encounter a simple password challenge as pictured below:\n",
    "\n",
    "![](challenge.png)\n",
    "\n",
    "Enter the password **freeswmm** and select \"SEND CREDENTIALS\" \n",
    "\n",
    ":::{note}\n",
    "In most cases you should observe a security warning that obscures the password dialog, simply click on some part of the dialog to background the warning\n",
    ":::\n",
    "\n",
    "Upon sucessful connection you will be attached to an XFCE desktop on the remote server as pictured below:\n",
    "\n",
    "![](xfcedesktop.png)\n",
    "\n",
    "To start SWMM navigate to the WINE application and select SWMM 5.1.015 to launch the interface, as pictured below:\n",
    "\n",
    "![](swmm51015.png)\n",
    "\n",
    "When SWMM starts you should be presented with a clean interface as pictured below:\n",
    "\n",
    "![](swmm2go.png)\n",
    "\n",
    ":::{note}\n",
    "SWMM is running in the WINE application layer on a linux server, it is similar to windows in terms of file management, resizing and moving the window showing SWMM is accomplished by right-click in the application tab in the upper part of the web interface; otherwise it is ordinary SWMM as one would experience on a Windows computer\n",
    ":::"
   ]
  },
  {
   "cell_type": "markdown",
   "id": "9bf4c8b2-6d9f-4124-8d9f-de3fefd80a23",
   "metadata": {
    "tags": []
   },
   "source": [
    "## Running Existing Examples\n",
    "\n",
    "The existing examples are all stored in the SWMM-Files Directory on the XFCE desktop (as well as some pre-installed examples).  As new examples are added they will be located in that directory.  \n",
    "\n",
    ":::{note}\n",
    "Moving files onto the remote server is non-trivial.  Although the clipboard tool in the NoVNC interface is useable for `.inp` files by opening the file, select all then paste into the clipboard - it works both ways so data can be moved either direction.   \n",
    ":::\n",
    "\n",
    "## Exiting FreeSWMM\n",
    "\n",
    "When you are done using the application, save your work then exist SWMM in the usual fashion. \n",
    "\n",
    "![](endswmm.png)\n",
    "\n",
    "Then select disconnect to close the web interface as pictured below:\n",
    "\n",
    "![](disconnect.png)\n",
    "\n",
    ":::{warning}\n",
    "Failure to exit SWMM before disconnecting will frequently stall the server.  It wont hurt anything, but is not end user fixable.\n",
    ":::\n",
    "\n",
    ":::{note}\n",
    "The server is programmed to disconnect every hour and restart one minute later; if you are in the middle of something your work should be preserved, just wait the minute and reconnect.  This annoying behavior is to mitigate loss of CPU allocation on AWS because of an idle XFCE window being left open.   Please remember to disconnect your sessions, there are only about 2.4 hours/day of computation time available and the connection itself uses a fair portion of that allocation.\n",
    ":::"
   ]
  },
  {
   "cell_type": "code",
   "execution_count": null,
   "id": "67fc8e2f-3e65-4e42-b137-a0e1b48ba0a4",
   "metadata": {},
   "outputs": [],
   "source": []
  }
 ],
 "metadata": {
  "kernelspec": {
   "display_name": "Python 38",
   "language": "python",
   "name": "python38"
  },
  "language_info": {
   "codemirror_mode": {
    "name": "ipython",
    "version": 3
   },
   "file_extension": ".py",
   "mimetype": "text/x-python",
   "name": "python",
   "nbconvert_exporter": "python",
   "pygments_lexer": "ipython3",
   "version": "3.8.3"
  }
 },
 "nbformat": 4,
 "nbformat_minor": 5
}
