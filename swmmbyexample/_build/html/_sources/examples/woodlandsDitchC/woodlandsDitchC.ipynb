{
 "cells": [
  {
   "cell_type": "markdown",
   "id": "28fc608e-1ff2-434c-87c6-1f968016d78d",
   "metadata": {},
   "source": [
    "# Woodlands Ditch C\n",
    "\n",
    "## Abstract\n",
    "\n",
    "## Background\n",
    "\n",
    "## Data Assembly\n",
    "\n",
    "![](swmm_grid_ditchC.jpg)\n",
    "\n",
    "## Model Building\n",
    "\n",
    "## Run(s) and Interpretation\n",
    "\n",
    "## Data Files\n",
    "\n",
    "1.[Woodlands Ditch C - No Relief Sewer](http://18.210.253.169/freeswmm-webroot/swmmbyexample/examples/woodlandsDitchC/WoodlandsDitchC_NoReliefSewer.inp)\n",
    "\n",
    "2.[Woodlands Ditch C - Relief Sewer (2 locations)](http://18.210.253.169/freeswmm-webroot/swmmbyexample/examples/woodlandsDitchC/WoodlandsDitchC_ReliefSewerTwoPlaces.inp)\n",
    "\n",
    "3.[Woodlands Ditch C - Background Image](http://18.210.253.169/freeswmm-webroot/swmmbyexample/examples/woodlandsDitchC/swmm_grid_ditchC.jpg)\n"
   ]
  },
  {
   "cell_type": "code",
   "execution_count": null,
   "id": "a9614c64-4a4a-44ca-8ea3-f806ed0fc0dd",
   "metadata": {},
   "outputs": [],
   "source": []
  }
 ],
 "metadata": {
  "kernelspec": {
   "display_name": "Python 38",
   "language": "python",
   "name": "python38"
  },
  "language_info": {
   "codemirror_mode": {
    "name": "ipython",
    "version": 3
   },
   "file_extension": ".py",
   "mimetype": "text/x-python",
   "name": "python",
   "nbconvert_exporter": "python",
   "pygments_lexer": "ipython3",
   "version": "3.8.3"
  }
 },
 "nbformat": 4,
 "nbformat_minor": 5
}
