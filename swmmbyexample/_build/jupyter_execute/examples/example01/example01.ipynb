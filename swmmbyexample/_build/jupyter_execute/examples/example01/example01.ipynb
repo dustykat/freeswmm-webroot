{
 "cells": [
  {
   "cell_type": "markdown",
   "metadata": {},
   "source": [
    "# Example 1\n",
    "\n",
    "Tutorial example supplied with SWMM\n",
    "\n",
    "## Objective\n",
    "\n",
    "This example is to simply verify ...\n",
    "\n",
    "## Situation\n",
    "\n",
    "## Supporting Data Files\n",
    "\n",
    "## Simulation Results\n",
    "\n",
    "## Interpretation\n",
    "\n",
    "## References"
   ]
  }
 ],
 "metadata": {
  "kernelspec": {
   "display_name": "Python 3 (ipykernel)",
   "language": "python",
   "name": "python3"
  },
  "language_info": {
   "codemirror_mode": {
    "name": "ipython",
    "version": 3
   },
   "file_extension": ".py",
   "mimetype": "text/x-python",
   "name": "python",
   "nbconvert_exporter": "python",
   "pygments_lexer": "ipython3",
   "version": "3.8.10"
  }
 },
 "nbformat": 4,
 "nbformat_minor": 4
}