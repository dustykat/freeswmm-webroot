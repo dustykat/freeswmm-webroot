{
 "cells": [
  {
   "cell_type": "markdown",
   "id": "3064e63f-e1a2-4a25-8925-f9d5523fe008",
   "metadata": {},
   "source": [
    "# Simple Pipelines\n",
    "\n",
    "The examples in this section are simple pipelines. EPANET is overkill for these examples, but they are a place to start.\n",
    "\n",
    "In these examples a modeling protocol is repeated to serve as a simple way to organize work within the program.  The protocol is roughly:\n",
    "\n",
    "1. Start EPANET\n",
    "2. Set defaults\n",
    "3. Import the background image (optional).\n",
    "4. Add Node-Type elements to the map\n",
    "5. Add Link-Type elements to the map\n",
    "6. Use hydraulic object dialogs to parameterize the model\n",
    "  - Set the total head each reservoir.\n",
    "  - Set the pipe length, roughness height, and diameter in each pipe.\n",
    "  - Set pumps, valves, and other elements\n",
    "7. Save the input file.\n",
    "8. Run the program. \n",
    "9. Check and interpret the results.\n",
    "\n",
    ":::{note}\n",
    "The protocol follows the guidance in the user manual \n",
    ":::"
   ]
  },
  {
   "cell_type": "code",
   "execution_count": null,
   "id": "713d5751-fa0b-4b9c-a20a-01f1c5613acb",
   "metadata": {},
   "outputs": [],
   "source": []
  }
 ],
 "metadata": {
  "kernelspec": {
   "display_name": "Python 38",
   "language": "python",
   "name": "python38"
  },
  "language_info": {
   "codemirror_mode": {
    "name": "ipython",
    "version": 3
   },
   "file_extension": ".py",
   "mimetype": "text/x-python",
   "name": "python",
   "nbconvert_exporter": "python",
   "pygments_lexer": "ipython3",
   "version": "3.8.3"
  }
 },
 "nbformat": 4,
 "nbformat_minor": 5
}
