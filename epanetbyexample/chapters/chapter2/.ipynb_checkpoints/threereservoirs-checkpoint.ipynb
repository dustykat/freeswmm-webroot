{
 "cells": [
  {
   "cell_type": "markdown",
   "id": "e26d8fe3-7ebd-4d7d-b977-1027a6ceb013",
   "metadata": {},
   "source": [
    "# Three Reservoirs \n",
    "\n",
    "This example illustrates loading a background image in addition to building a model.\n",
    "\n",
    "## Problem Statement\n",
    "\n",
    "Reservoirs A, B, and C are connected as shown\n",
    "\n",
    "![](p230.bmp)\n",
    "\n",
    "The water elevations in reservoirs A, B, and C are 100 m, 80 m, and 60 m.   The three pipes connecting the reservoirs meet at junction J, with pipe AJ being 900 m long, BJ being 800 m long, and CJ being 700 m long.  The diameters of all the pipes are\n",
    "850 mm.  If all the pipes are ductile iron, and the water temperature is 293$^o$K, find the direction and magnitude of flow in each pipe.\n",
    "\n",
    ":::{note}\n",
    "This problem is identical to Chin Problem 2.30, Pg. 92\n",
    ":::   \n",
    "\n",
    "## Start EPANET\n",
    "\n",
    "FIGURE HERE\n",
    "\n",
    "## Set Defaults\n",
    "\n",
    "## Load the Background Image\n",
    "\n",
    "FIGURE HERE\n",
    "\n",
    "## Add Node-Type Elements\n",
    "- Select the reservoir tool.  Put three reservoirs on the map.\n",
    "- Select the node tool, put a node on the map. **EPA NET needs one node!**\n",
    "\n",
    "FIGURE HERE\n",
    "\n",
    "## Add Link-Type Elements\n",
    "- Select the link (pipe) tool, connect the three reservoirs to the node.\n",
    "\n",
    "FIGURE HERE\n",
    "\n",
    "## Edit hydraulic element properties to parameterize the model\n",
    "- Set the total head each reservoir.\n",
    "- Set the pipe lengths, diameters, and roughness height.\n",
    "\n",
    "FIGURE HERE\n",
    "\n",
    "## Save the input file and Run the program.   \n",
    "- Query the pipe and find the computed flow. \n",
    "\n",
    "FIGURE HERE\n",
    "\n",
    "The pipes were originally straight segments, but a drawing tool in EPANET can be used to follow the shape of the underlying basemap.  The flowrates are in liters-per-second, divide by 1000 to obtain cubic-meters-per-second.\n",
    "\n",
    "## References\n",
    "\n",
    "## Data Files\n",
    "\n",
    "## Videos\n"
   ]
  },
  {
   "cell_type": "code",
   "execution_count": null,
   "id": "2b7623b1-439d-4943-9bd5-c59ccc094887",
   "metadata": {},
   "outputs": [],
   "source": []
  }
 ],
 "metadata": {
  "kernelspec": {
   "display_name": "Python 38",
   "language": "python",
   "name": "python38"
  },
  "language_info": {
   "codemirror_mode": {
    "name": "ipython",
    "version": 3
   },
   "file_extension": ".py",
   "mimetype": "text/x-python",
   "name": "python",
   "nbconvert_exporter": "python",
   "pygments_lexer": "ipython3",
   "version": "3.8.3"
  }
 },
 "nbformat": 4,
 "nbformat_minor": 5
}
