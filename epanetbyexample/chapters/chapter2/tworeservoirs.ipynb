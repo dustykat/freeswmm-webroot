{
 "cells": [
  {
   "cell_type": "markdown",
   "id": "6836e987-271e-4614-996b-9fd03bf7095d",
   "metadata": {},
   "source": [
    "# Flow Between Two Reservoirs\n",
    "\n",
    "This example represents the situation where the total head is known at two points on a pipeline, and one wishes to determine the flow rate (or specify a flow rate and solve for a pipe diameter).   Like the prior example it is contrived, but follows the same general modeling process.\n",
    "\n",
    "## Problem Statement\n",
    "\n",
    "> Using the Moody chart, and the energy equation, estimate the diameter of a cast-iron pipe needed to carry 60$^o$F water at a discharge of 10 cubic-feet per second (cfs) between two reservoirs 2 miles apart.  The elevation difference between the water surfaces in the two reservoirs is 20 feet.\n",
    "\n",
    "As in the prior example, we will need to specify the pipe roughness terms, then solve by trial-and-error for the diameter required to carry the water at the desired flowrate.  Page 31 of the EPANET manual suggests that the roughness height for cast iron is 0.85 millifeet.\n",
    "\n",
    "As before the steps to model the situation are:\n",
    "\n",
    "## Start EPANET\n",
    "\n",
    "FIGURE HERE\n",
    "\n",
    "## Set defaults\n",
    "\n",
    "FIGURE HERE\n",
    "\n",
    "## Add Node-Type Elements\n",
    "- Select the reservoir tool.  Put two reservoirs on the map.\n",
    "\n",
    "FIGURE HERE\n",
    "\n",
    "- Select the node tool, put a node on the map. **EPA NET needs one node!**\n",
    "\n",
    "FIGURE HERE\n",
    "\n",
    "## Add Link-Type Elements\n",
    "- Select the link (pipe) tool, connect the two reservoirs to the node.  One link is the 2 mile pipe, the other is a short large diameter pipe (negligible head loss).\n",
    "\n",
    "FIGURE HERE\n",
    "\n",
    "## Edit hydraulic element properties to parameterize the model\n",
    "- Set the total head each reservoir.\n",
    "- Set the pipe length and roughness height in the 2 mile pipe.\n",
    "- Guess a diameter.\n",
    "\n",
    "FIGURE HERE\n",
    "\n",
    "## Save the input file and Run the program.   \n",
    "- Query the pipe and find the computed flow. \n",
    "\n",
    "FIGURE HERE\n",
    "\n",
    ":::{note}\n",
    "If the flow is too large reduce the pipe diameter, if too small increase the pipe diameter.  Stop when within a few percent of the desired flow rate.  Use commercially available diameters in the trial-and-error process, so exact match is not anticipated.\n",
    ":::\n",
    "\n",
    "## References\n",
    "\n",
    "## Data Files\n",
    "\n",
    "## Videos\n",
    "\n"
   ]
  },
  {
   "cell_type": "code",
   "execution_count": null,
   "id": "e2c987f0-2f07-4b34-9e60-9774aa7cee73",
   "metadata": {},
   "outputs": [],
   "source": []
  }
 ],
 "metadata": {
  "kernelspec": {
   "display_name": "Python 38",
   "language": "python",
   "name": "python38"
  },
  "language_info": {
   "codemirror_mode": {
    "name": "ipython",
    "version": 3
   },
   "file_extension": ".py",
   "mimetype": "text/x-python",
   "name": "python",
   "nbconvert_exporter": "python",
   "pygments_lexer": "ipython3",
   "version": "3.8.3"
  }
 },
 "nbformat": 4,
 "nbformat_minor": 5
}
