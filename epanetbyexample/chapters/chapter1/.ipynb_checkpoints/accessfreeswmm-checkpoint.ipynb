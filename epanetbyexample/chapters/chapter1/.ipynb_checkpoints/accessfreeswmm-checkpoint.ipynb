{
 "cells": [
  {
   "cell_type": "markdown",
   "id": "89895eeb-3f96-442b-8219-b589a1cab668",
   "metadata": {
    "jp-MarkdownHeadingCollapsed": true,
    "tags": []
   },
   "source": [
    "# Accessing FreeSWMM\n",
    "\n",
    "To access the FreeSWMM site use the link: [FreeSWMM (via NoVNC)](http://freeswmm.ddns.net:6082/vnc.html?host=freeswmm.ddns.net&port=6082) you will encounter the NoVNC interface pictured below:\n",
    "\n",
    "> [Root](http://18.210.253.169:6081/vnc.html?host=18.210.253.169&port=6081)<br>\n",
    "> [User](http://18.210.253.169:6082/vnc.html?host=18.210.253.169&port=6082)<br>\n",
    "> VNC Services<br>\n",
    "> sudo snap set novnc services.n6081.listen=6081 services.n6081.vnc=localhost:5901<br>\n",
    "> sudo snap set novnc services.n6082.listen=6082 services.n6082.vnc=localhost:5902<br>\n",
    "\n",
    "![](novnc.png)\n",
    "\n",
    "When you when you click on \"Connect\" you will encounter a simple password challenge as pictured below:\n",
    "\n",
    "![](challenge.png)\n",
    "\n",
    "Enter the password **freeswmm** and select \"SEND CREDENTIALS\" \n",
    "\n",
    ":::{note}\n",
    "In most cases you should observe a security warning that obscures the password dialog, simply click on some part of the dialog to background the warning\n",
    ":::\n",
    "\n",
    "Upon sucessful connection you will be attached to an XFCE desktop on the remote server as pictured below:\n",
    "\n",
    "![](xfcedesktop.png)\n",
    "\n",
    "To start EPANET navigate to the WINE application and select EPANET 2.2 to launch the interface, as pictured below:\n",
    "\n",
    "![](swmm51015.png)\n",
    "\n",
    "When EPANET starts you should be presented with a clean interface as pictured below:\n",
    "\n",
    "![](swmm2go.png)\n",
    "\n",
    ":::{note}\n",
    "EPANET is running in a WINE application layer on a linux server, it is similar to windows in terms of file management, resizing and moving the window showing EPANET is accomplished by right-click in the application tab in the upper part of the web interface; otherwise it is ordinary EPANET as one would experience on a Windows computer\n",
    ":::"
   ]
  },
  {
   "cell_type": "markdown",
   "id": "cdd5f740-a48b-4243-96fa-8e4f7846192c",
   "metadata": {
    "jupyter": {
     "source_hidden": true
    },
    "tags": []
   },
   "source": [
    "## Running Existing Examples\n",
    "\n",
    "The existing examples are all stored in the SWMM-Files Directory on the XFCE desktop (as well as some pre-installed examples).  As new examples are added they will be located in that directory.  \n",
    "\n",
    ":::{note}\n",
    "Moving files onto the remote server is non-trivial.  Although the clipboard tool in the NoVNC interface is useable for `.inp` files by opening the file, select all then paste into the clipboard - it works both ways so data can be moved either direction.   \n",
    ":::\n",
    "\n",
    "## Exiting FreeSWMM\n",
    "\n",
    "When you are done using the application, save your work then exist SWMM in the usual fashion. \n",
    "\n",
    "![](endswmm.png)\n",
    "\n",
    "Then select disconnect to close the web interface as pictured below:\n",
    "\n",
    "![](disconnect.png)\n",
    "\n",
    ":::{warning}\n",
    "Failure to exit SWMM before disconnecting will frequently stall the server.  It wont hurt anything, but is not end user fixable. A semi-automated resolution is under investigation.\n",
    ":::"
   ]
  }
 ],
 "metadata": {
  "kernelspec": {
   "display_name": "Python 38",
   "language": "python",
   "name": "python38"
  },
  "language_info": {
   "codemirror_mode": {
    "name": "ipython",
    "version": 3
   },
   "file_extension": ".py",
   "mimetype": "text/x-python",
   "name": "python",
   "nbconvert_exporter": "python",
   "pygments_lexer": "ipython3",
   "version": "3.8.3"
  }
 },
 "nbformat": 4,
 "nbformat_minor": 5
}
